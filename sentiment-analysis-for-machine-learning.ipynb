{
 "cells": [
  {
   "cell_type": "code",
   "execution_count": 1,
   "id": "99c5c7c9",
   "metadata": {
    "execution": {
     "iopub.execute_input": "2023-03-26T12:18:49.735347Z",
     "iopub.status.busy": "2023-03-26T12:18:49.734931Z",
     "iopub.status.idle": "2023-03-26T12:18:51.435022Z",
     "shell.execute_reply": "2023-03-26T12:18:51.433517Z"
    },
    "papermill": {
     "duration": 1.710703,
     "end_time": "2023-03-26T12:18:51.438217",
     "exception": false,
     "start_time": "2023-03-26T12:18:49.727514",
     "status": "completed"
    },
    "tags": []
   },
   "outputs": [],
   "source": [
    "import pandas as pd\n",
    "import nltk\n",
    "from nltk.corpus import stopwords\n",
    "import pickle\n",
    "from sklearn.feature_extraction.text import TfidfVectorizer\n",
    "from sklearn.model_selection import train_test_split\n",
    "from sklearn.linear_model import LogisticRegression\n",
    "from sklearn.metrics import classification_report"
   ]
  },
  {
   "cell_type": "code",
   "execution_count": 2,
   "id": "77fd7cdb",
   "metadata": {
    "execution": {
     "iopub.execute_input": "2023-03-26T12:18:51.451161Z",
     "iopub.status.busy": "2023-03-26T12:18:51.450298Z",
     "iopub.status.idle": "2023-03-26T12:18:58.760854Z",
     "shell.execute_reply": "2023-03-26T12:18:58.759351Z"
    },
    "papermill": {
     "duration": 7.321908,
     "end_time": "2023-03-26T12:18:58.765512",
     "exception": false,
     "start_time": "2023-03-26T12:18:51.443604",
     "status": "completed"
    },
    "tags": []
   },
   "outputs": [],
   "source": [
    "df=pd.read_csv('/kaggle/input/machine-learning-sentiment-analysis/ML_sentiments.csv',encoding='ISO-8859-1')"
   ]
  },
  {
   "cell_type": "code",
   "execution_count": 3,
   "id": "67ff327f",
   "metadata": {
    "execution": {
     "iopub.execute_input": "2023-03-26T12:18:58.777400Z",
     "iopub.status.busy": "2023-03-26T12:18:58.776890Z",
     "iopub.status.idle": "2023-03-26T12:18:58.784978Z",
     "shell.execute_reply": "2023-03-26T12:18:58.783269Z"
    },
    "papermill": {
     "duration": 0.01742,
     "end_time": "2023-03-26T12:18:58.788052",
     "exception": false,
     "start_time": "2023-03-26T12:18:58.770632",
     "status": "completed"
    },
    "tags": []
   },
   "outputs": [],
   "source": [
    "df.columns = ['Number', 'Unique ID','Date', 'Query','Name', 'text']"
   ]
  },
  {
   "cell_type": "code",
   "execution_count": 4,
   "id": "0f575242",
   "metadata": {
    "execution": {
     "iopub.execute_input": "2023-03-26T12:18:58.799661Z",
     "iopub.status.busy": "2023-03-26T12:18:58.799199Z",
     "iopub.status.idle": "2023-03-26T12:18:58.834220Z",
     "shell.execute_reply": "2023-03-26T12:18:58.832458Z"
    },
    "papermill": {
     "duration": 0.045233,
     "end_time": "2023-03-26T12:18:58.838178",
     "exception": false,
     "start_time": "2023-03-26T12:18:58.792945",
     "status": "completed"
    },
    "tags": []
   },
   "outputs": [
    {
     "data": {
      "text/html": [
       "<div>\n",
       "<style scoped>\n",
       "    .dataframe tbody tr th:only-of-type {\n",
       "        vertical-align: middle;\n",
       "    }\n",
       "\n",
       "    .dataframe tbody tr th {\n",
       "        vertical-align: top;\n",
       "    }\n",
       "\n",
       "    .dataframe thead th {\n",
       "        text-align: right;\n",
       "    }\n",
       "</style>\n",
       "<table border=\"1\" class=\"dataframe\">\n",
       "  <thead>\n",
       "    <tr style=\"text-align: right;\">\n",
       "      <th></th>\n",
       "      <th>Number</th>\n",
       "      <th>Unique ID</th>\n",
       "      <th>Date</th>\n",
       "      <th>Query</th>\n",
       "      <th>Name</th>\n",
       "      <th>text</th>\n",
       "    </tr>\n",
       "  </thead>\n",
       "  <tbody>\n",
       "    <tr>\n",
       "      <th>0</th>\n",
       "      <td>0</td>\n",
       "      <td>1467810672</td>\n",
       "      <td>Mon Apr 06 22:19:49 PDT 2009</td>\n",
       "      <td>NO_QUERY</td>\n",
       "      <td>scotthamilton</td>\n",
       "      <td>is upset that he can't update his Facebook by ...</td>\n",
       "    </tr>\n",
       "    <tr>\n",
       "      <th>1</th>\n",
       "      <td>0</td>\n",
       "      <td>1467810917</td>\n",
       "      <td>Mon Apr 06 22:19:53 PDT 2009</td>\n",
       "      <td>NO_QUERY</td>\n",
       "      <td>mattycus</td>\n",
       "      <td>@Kenichan I dived many times for the ball. Man...</td>\n",
       "    </tr>\n",
       "    <tr>\n",
       "      <th>2</th>\n",
       "      <td>0</td>\n",
       "      <td>1467811184</td>\n",
       "      <td>Mon Apr 06 22:19:57 PDT 2009</td>\n",
       "      <td>NO_QUERY</td>\n",
       "      <td>ElleCTF</td>\n",
       "      <td>my whole body feels itchy and like its on fire</td>\n",
       "    </tr>\n",
       "    <tr>\n",
       "      <th>3</th>\n",
       "      <td>0</td>\n",
       "      <td>1467811193</td>\n",
       "      <td>Mon Apr 06 22:19:57 PDT 2009</td>\n",
       "      <td>NO_QUERY</td>\n",
       "      <td>Karoli</td>\n",
       "      <td>@nationwideclass no, it's not behaving at all....</td>\n",
       "    </tr>\n",
       "    <tr>\n",
       "      <th>4</th>\n",
       "      <td>0</td>\n",
       "      <td>1467811372</td>\n",
       "      <td>Mon Apr 06 22:20:00 PDT 2009</td>\n",
       "      <td>NO_QUERY</td>\n",
       "      <td>joy_wolf</td>\n",
       "      <td>@Kwesidei not the whole crew</td>\n",
       "    </tr>\n",
       "  </tbody>\n",
       "</table>\n",
       "</div>"
      ],
      "text/plain": [
       "   Number   Unique ID                          Date     Query           Name  \\\n",
       "0       0  1467810672  Mon Apr 06 22:19:49 PDT 2009  NO_QUERY  scotthamilton   \n",
       "1       0  1467810917  Mon Apr 06 22:19:53 PDT 2009  NO_QUERY       mattycus   \n",
       "2       0  1467811184  Mon Apr 06 22:19:57 PDT 2009  NO_QUERY        ElleCTF   \n",
       "3       0  1467811193  Mon Apr 06 22:19:57 PDT 2009  NO_QUERY         Karoli   \n",
       "4       0  1467811372  Mon Apr 06 22:20:00 PDT 2009  NO_QUERY       joy_wolf   \n",
       "\n",
       "                                                text  \n",
       "0  is upset that he can't update his Facebook by ...  \n",
       "1  @Kenichan I dived many times for the ball. Man...  \n",
       "2    my whole body feels itchy and like its on fire   \n",
       "3  @nationwideclass no, it's not behaving at all....  \n",
       "4                      @Kwesidei not the whole crew   "
      ]
     },
     "execution_count": 4,
     "metadata": {},
     "output_type": "execute_result"
    }
   ],
   "source": [
    "df.head()"
   ]
  },
  {
   "cell_type": "code",
   "execution_count": 5,
   "id": "b23b8f27",
   "metadata": {
    "execution": {
     "iopub.execute_input": "2023-03-26T12:18:58.850615Z",
     "iopub.status.busy": "2023-03-26T12:18:58.849924Z",
     "iopub.status.idle": "2023-03-26T12:18:59.230299Z",
     "shell.execute_reply": "2023-03-26T12:18:59.228744Z"
    },
    "papermill": {
     "duration": 0.389965,
     "end_time": "2023-03-26T12:18:59.233236",
     "exception": false,
     "start_time": "2023-03-26T12:18:58.843271",
     "status": "completed"
    },
    "tags": []
   },
   "outputs": [
    {
     "name": "stdout",
     "output_type": "stream",
     "text": [
      "<class 'pandas.core.frame.DataFrame'>\n",
      "RangeIndex: 1599999 entries, 0 to 1599998\n",
      "Data columns (total 6 columns):\n",
      " #   Column     Non-Null Count    Dtype \n",
      "---  ------     --------------    ----- \n",
      " 0   Number     1599999 non-null  int64 \n",
      " 1   Unique ID  1599999 non-null  int64 \n",
      " 2   Date       1599999 non-null  object\n",
      " 3   Query      1599999 non-null  object\n",
      " 4   Name       1599999 non-null  object\n",
      " 5   text       1599999 non-null  object\n",
      "dtypes: int64(2), object(4)\n",
      "memory usage: 73.2+ MB\n"
     ]
    }
   ],
   "source": [
    "df.info()"
   ]
  },
  {
   "cell_type": "code",
   "execution_count": 6,
   "id": "5539692c",
   "metadata": {
    "execution": {
     "iopub.execute_input": "2023-03-26T12:18:59.247015Z",
     "iopub.status.busy": "2023-03-26T12:18:59.245727Z",
     "iopub.status.idle": "2023-03-26T12:18:59.631343Z",
     "shell.execute_reply": "2023-03-26T12:18:59.629851Z"
    },
    "papermill": {
     "duration": 0.395242,
     "end_time": "2023-03-26T12:18:59.634230",
     "exception": false,
     "start_time": "2023-03-26T12:18:59.238988",
     "status": "completed"
    },
    "tags": []
   },
   "outputs": [],
   "source": [
    "neutral_index = df[df['Number'] == 2].index\n",
    "df.drop(neutral_index, inplace=True)\n",
    "df.drop(columns=['Unique ID', 'Date', 'Query', 'Name'], inplace=True)"
   ]
  },
  {
   "cell_type": "code",
   "execution_count": 7,
   "id": "0960127f",
   "metadata": {
    "execution": {
     "iopub.execute_input": "2023-03-26T12:18:59.646125Z",
     "iopub.status.busy": "2023-03-26T12:18:59.645642Z",
     "iopub.status.idle": "2023-03-26T12:18:59.897087Z",
     "shell.execute_reply": "2023-03-26T12:18:59.895226Z"
    },
    "papermill": {
     "duration": 0.263212,
     "end_time": "2023-03-26T12:18:59.902660",
     "exception": false,
     "start_time": "2023-03-26T12:18:59.639448",
     "status": "completed"
    },
    "tags": []
   },
   "outputs": [
    {
     "data": {
      "text/plain": [
       "<AxesSubplot:ylabel='Number'>"
      ]
     },
     "execution_count": 7,
     "metadata": {},
     "output_type": "execute_result"
    },
    {
     "data": {
      "image/png": "[encoded data removed]",
      "text/plain": [
       "<Figure size 640x480 with 1 Axes>"
      ]
     },
     "metadata": {},
     "output_type": "display_data"
    }
   ],
   "source": [
    "df['Number'].value_counts().plot(kind='pie')"
   ]
  },
  {
   "cell_type": "code",
   "execution_count": 8,
   "id": "f8cb19d1",
   "metadata": {
    "execution": {
     "iopub.execute_input": "2023-03-26T12:18:59.932990Z",
     "iopub.status.busy": "2023-03-26T12:18:59.931987Z",
     "iopub.status.idle": "2023-03-26T12:18:59.948231Z",
     "shell.execute_reply": "2023-03-26T12:18:59.947161Z"
    },
    "papermill": {
     "duration": 0.03495,
     "end_time": "2023-03-26T12:18:59.951012",
     "exception": false,
     "start_time": "2023-03-26T12:18:59.916062",
     "status": "completed"
    },
    "tags": []
   },
   "outputs": [],
   "source": [
    "stopwords = set(stopwords.words('english'))"
   ]
  },
  {
   "cell_type": "code",
   "execution_count": 9,
   "id": "a84650f7",
   "metadata": {
    "execution": {
     "iopub.execute_input": "2023-03-26T12:18:59.964237Z",
     "iopub.status.busy": "2023-03-26T12:18:59.963204Z",
     "iopub.status.idle": "2023-03-26T12:24:36.047255Z",
     "shell.execute_reply": "2023-03-26T12:24:36.045524Z"
    },
    "papermill": {
     "duration": 336.094358,
     "end_time": "2023-03-26T12:24:36.050829",
     "exception": false,
     "start_time": "2023-03-26T12:18:59.956471",
     "status": "completed"
    },
    "tags": []
   },
   "outputs": [],
   "source": [
    "def preprocess_text(text):\n",
    "    text = text.lower()\n",
    "    words = nltk.word_tokenize(text)\n",
    "    words = [word for word in words if word.isalnum()]\n",
    "    words = [word for word in words if word not in stopwords]\n",
    "    return ' '.join(words)\n",
    "\n",
    "df['text'] = df['text'].apply(preprocess_text)"
   ]
  },
  {
   "cell_type": "code",
   "execution_count": 10,
   "id": "bfa1d77a",
   "metadata": {
    "execution": {
     "iopub.execute_input": "2023-03-26T12:24:36.063746Z",
     "iopub.status.busy": "2023-03-26T12:24:36.063327Z",
     "iopub.status.idle": "2023-03-26T12:24:36.530112Z",
     "shell.execute_reply": "2023-03-26T12:24:36.528584Z"
    },
    "papermill": {
     "duration": 0.476737,
     "end_time": "2023-03-26T12:24:36.533215",
     "exception": false,
     "start_time": "2023-03-26T12:24:36.056478",
     "status": "completed"
    },
    "tags": []
   },
   "outputs": [],
   "source": [
    "X_train, X_test, y_train, y_test = train_test_split(df['text'], df['Number'], test_size=0.25, random_state=42)"
   ]
  },
  {
   "cell_type": "code",
   "execution_count": 11,
   "id": "7db0053e",
   "metadata": {
    "execution": {
     "iopub.execute_input": "2023-03-26T12:24:36.546128Z",
     "iopub.status.busy": "2023-03-26T12:24:36.545617Z",
     "iopub.status.idle": "2023-03-26T12:24:57.888111Z",
     "shell.execute_reply": "2023-03-26T12:24:57.885869Z"
    },
    "papermill": {
     "duration": 21.352495,
     "end_time": "2023-03-26T12:24:57.891175",
     "exception": false,
     "start_time": "2023-03-26T12:24:36.538680",
     "status": "completed"
    },
    "tags": []
   },
   "outputs": [],
   "source": [
    "vectorizer = TfidfVectorizer()\n",
    "X_train = vectorizer.fit_transform(X_train)\n",
    "X_test = vectorizer.transform(X_test)"
   ]
  },
  {
   "cell_type": "code",
   "execution_count": 12,
   "id": "f45febc3",
   "metadata": {
    "execution": {
     "iopub.execute_input": "2023-03-26T12:24:57.906027Z",
     "iopub.status.busy": "2023-03-26T12:24:57.904284Z",
     "iopub.status.idle": "2023-03-26T12:25:22.109913Z",
     "shell.execute_reply": "2023-03-26T12:25:22.108126Z"
    },
    "papermill": {
     "duration": 24.216025,
     "end_time": "2023-03-26T12:25:22.112653",
     "exception": false,
     "start_time": "2023-03-26T12:24:57.896628",
     "status": "completed"
    },
    "tags": []
   },
   "outputs": [
    {
     "data": {
      "text/plain": [
       "LogisticRegression(class_weight='balanced', max_iter=2500, solver='sag')"
      ]
     },
     "execution_count": 12,
     "metadata": {},
     "output_type": "execute_result"
    }
   ],
   "source": [
    "model = LogisticRegression(solver = 'sag', max_iter = 2500, class_weight='balanced')\n",
    "model.fit(X_train, y_train)"
   ]
  },
  {
   "cell_type": "code",
   "execution_count": 13,
   "id": "821ef4b7",
   "metadata": {
    "execution": {
     "iopub.execute_input": "2023-03-26T12:25:22.126598Z",
     "iopub.status.busy": "2023-03-26T12:25:22.126181Z",
     "iopub.status.idle": "2023-03-26T12:25:22.880568Z",
     "shell.execute_reply": "2023-03-26T12:25:22.878557Z"
    },
    "papermill": {
     "duration": 0.765842,
     "end_time": "2023-03-26T12:25:22.883934",
     "exception": false,
     "start_time": "2023-03-26T12:25:22.118092",
     "status": "completed"
    },
    "tags": []
   },
   "outputs": [
    {
     "name": "stdout",
     "output_type": "stream",
     "text": [
      "              precision    recall  f1-score   support\n",
      "\n",
      "           0       0.79      0.76      0.78    199581\n",
      "           4       0.77      0.80      0.79    200419\n",
      "\n",
      "    accuracy                           0.78    400000\n",
      "   macro avg       0.78      0.78      0.78    400000\n",
      "weighted avg       0.78      0.78      0.78    400000\n",
      "\n"
     ]
    }
   ],
   "source": [
    "y_pred = model.predict(X_test)\n",
    "print(classification_report(y_test, y_pred))"
   ]
  },
  {
   "cell_type": "code",
   "execution_count": 14,
   "id": "20883d73",
   "metadata": {
    "execution": {
     "iopub.execute_input": "2023-03-26T12:25:22.896654Z",
     "iopub.status.busy": "2023-03-26T12:25:22.896209Z",
     "iopub.status.idle": "2023-03-26T12:25:22.911498Z",
     "shell.execute_reply": "2023-03-26T12:25:22.909530Z"
    },
    "papermill": {
     "duration": 0.02627,
     "end_time": "2023-03-26T12:25:22.915631",
     "exception": false,
     "start_time": "2023-03-26T12:25:22.889361",
     "status": "completed"
    },
    "tags": []
   },
   "outputs": [
    {
     "name": "stdout",
     "output_type": "stream",
     "text": [
      "Sentiment: 4\n"
     ]
    }
   ],
   "source": [
    "new_text = 'This is a great movie!'\n",
    "new_text = preprocess_text(new_text)\n",
    "new_text_vectorized = vectorizer.transform([new_text])\n",
    "sentiment = model.predict(new_text_vectorized)\n",
    "print('Sentiment:', sentiment[0])"
   ]
  },
  {
   "cell_type": "code",
   "execution_count": 15,
   "id": "cc377d25",
   "metadata": {
    "execution": {
     "iopub.execute_input": "2023-03-26T12:25:22.928737Z",
     "iopub.status.busy": "2023-03-26T12:25:22.928321Z",
     "iopub.status.idle": "2023-03-26T12:25:22.938481Z",
     "shell.execute_reply": "2023-03-26T12:25:22.937235Z"
    },
    "papermill": {
     "duration": 0.01992,
     "end_time": "2023-03-26T12:25:22.941293",
     "exception": false,
     "start_time": "2023-03-26T12:25:22.921373",
     "status": "completed"
    },
    "tags": []
   },
   "outputs": [],
   "source": [
    "filename = 'sentiment_model.sav'\n",
    "pickle.dump(model, open(filename, 'wb'))"
   ]
  }
 ],
 "metadata": {
  "kernelspec": {
   "display_name": "Python 3",
   "language": "python",
   "name": "python3"
  },
  "language_info": {
   "codemirror_mode": {
    "name": "ipython",
    "version": 3
   },
   "file_extension": ".py",
   "mimetype": "text/x-python",
   "name": "python",
   "nbconvert_exporter": "python",
   "pygments_lexer": "ipython3",
   "version": "3.7.12"
  },
  "papermill": {
   "default_parameters": {},
   "duration": 405.425354,
   "end_time": "2023-03-26T12:25:24.072601",
   "environment_variables": {},
   "exception": null,
   "input_path": "__notebook__.ipynb",
   "output_path": "__notebook__.ipynb",
   "parameters": {},
   "start_time": "2023-03-26T12:18:38.647247",
   "version": "2.4.0"
  }
 },
 "nbformat": 4,
 "nbformat_minor": 5
}
